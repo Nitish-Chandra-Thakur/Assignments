{
 "cells": [
  {
   "cell_type": "markdown",
   "metadata": {},
   "source": [
    "## 1. Creating and printing pattern using nested for loop"
   ]
  },
  {
   "cell_type": "code",
   "execution_count": 19,
   "metadata": {},
   "outputs": [
    {
     "name": "stdout",
     "output_type": "stream",
     "text": [
      "Enter an integer, for printing * as per your integer: 8\n"
     ]
    }
   ],
   "source": [
    "# Taking an interger value from user\n",
    "n = int(input(\"Enter an integer, for printing * as per your integer: \"))"
   ]
  },
  {
   "cell_type": "code",
   "execution_count": 18,
   "metadata": {},
   "outputs": [
    {
     "name": "stdout",
     "output_type": "stream",
     "text": [
      "* \t\n",
      "* * \t\n",
      "* * * \t\n",
      "* * * * \t\n",
      "* * * * * \t\n",
      "* * * * * * \t\n",
      "* * * * * * * \t\n",
      "* * * * * * \t\n",
      "* * * * * \t\n",
      "* * * * \t\n",
      "* * * \t\n",
      "* * \t\n",
      "* \t\n"
     ]
    }
   ],
   "source": [
    "for i in range(0, n):            # using \"i\" for number of rows to be printed till half way\n",
    "    for j in range(0, i+1):      # \"j\" is used for printing \"*\" in each row accordingly\n",
    "        print(\"* \",end=\"\")\n",
    "    print(\"\\t\")\n",
    "for i in range(0, n-1):          # using \"i\" with different scope for printing next half rows\n",
    "    for j in range(n-i-1):       # printing \"*\" as per number of \"*\" to be printed\n",
    "        print(\"* \",end=\"\")\n",
    "    print(\"\\t\")"
   ]
  },
  {
   "cell_type": "code",
   "execution_count": null,
   "metadata": {},
   "outputs": [],
   "source": []
  },
  {
   "cell_type": "markdown",
   "metadata": {},
   "source": [
    "## 2.Reversing a word given by user"
   ]
  },
  {
   "cell_type": "code",
   "execution_count": 23,
   "metadata": {},
   "outputs": [
    {
     "name": "stdout",
     "output_type": "stream",
     "text": [
      "Enter a word that you want to reverse: ineuron\n"
     ]
    }
   ],
   "source": [
    "# Taking a word from user and storing it in string type variable \"word\"\n",
    "word = input(\"Enter a word that you want to reverse: \")"
   ]
  },
  {
   "cell_type": "code",
   "execution_count": 24,
   "metadata": {},
   "outputs": [
    {
     "name": "stdout",
     "output_type": "stream",
     "text": [
      "norueni\n"
     ]
    }
   ],
   "source": [
    "# Using slicing function of string and then storing it from -1 index\n",
    "word = word[::-1]\n",
    "\n",
    "# Printing word in reverse aftre slicing\n",
    "print(word)"
   ]
  },
  {
   "cell_type": "code",
   "execution_count": null,
   "metadata": {},
   "outputs": [],
   "source": []
  }
 ],
 "metadata": {
  "kernelspec": {
   "display_name": "Python 3",
   "language": "python",
   "name": "python3"
  },
  "language_info": {
   "codemirror_mode": {
    "name": "ipython",
    "version": 3
   },
   "file_extension": ".py",
   "mimetype": "text/x-python",
   "name": "python",
   "nbconvert_exporter": "python",
   "pygments_lexer": "ipython3",
   "version": "3.8.3"
  }
 },
 "nbformat": 4,
 "nbformat_minor": 4
}
